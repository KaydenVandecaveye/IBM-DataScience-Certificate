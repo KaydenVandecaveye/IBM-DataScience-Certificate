{
 "cells": [
  {
   "cell_type": "markdown",
   "id": "b6af420a-b901-49b0-adab-8840e30fc32a",
   "metadata": {},
   "source": [
    "## Data Science Tools and Ecosystem"
   ]
  },
  {
   "cell_type": "markdown",
   "id": "001ecd41-9f12-4df7-a524-2f660934fa5c",
   "metadata": {},
   "source": [
    "## In this notebook, Data Science Tools and Ecosystem are summarized."
   ]
  },
  {
   "cell_type": "markdown",
   "id": "bfffffa7-6884-4e7c-bcda-7fc63afa9f69",
   "metadata": {},
   "source": [
    "## Some of the popular languages that Data Scientists use are:\n",
    "1. **Python**\n",
    "2. **R**\n",
    "3. **Scala**\n"
   ]
  },
  {
   "cell_type": "markdown",
   "id": "68a67fcf-6d83-4d65-8df8-29ceb6081a15",
   "metadata": {},
   "source": [
    "## Some of the commonly used libraries used by Data Scientists include:\n",
    "1. **NumPy**\n",
    "2. **Pandas**\n",
    "3. **Matplotlib**\n",
    "4. **Scikit-Learn**"
   ]
  },
  {
   "cell_type": "markdown",
   "id": "fc0cc653-0aa9-41c1-9fcb-7bca294577e3",
   "metadata": {},
   "source": [
    "| Data Science Tools |\n",
    "|--------------------|\n",
    "| Jupyter Notebook   |\n",
    "| RStudio            |\n",
    "| Apache Zeppelin    |\n"
   ]
  },
  {
   "cell_type": "markdown",
   "id": "a853ac7a-3c30-4db3-91de-e238543711ed",
   "metadata": {},
   "source": [
    "## Below are a few examples of evaluating arithmetic expressions in Python."
   ]
  },
  {
   "cell_type": "code",
   "execution_count": 2,
   "id": "524281ed-0396-4e0f-8f92-bceb9c71e854",
   "metadata": {},
   "outputs": [
    {
     "data": {
      "text/plain": [
       "17"
      ]
     },
     "execution_count": 2,
     "metadata": {},
     "output_type": "execute_result"
    }
   ],
   "source": [
    "# This is a simple arithmetic expression.\n",
    "(3*4) + 5"
   ]
  },
  {
   "cell_type": "code",
   "execution_count": 3,
   "id": "b1b7e6da-4a50-4d46-ba00-faf97d358434",
   "metadata": {},
   "outputs": [
    {
     "data": {
      "text/plain": [
       "3.3333333333333335"
      ]
     },
     "execution_count": 3,
     "metadata": {},
     "output_type": "execute_result"
    }
   ],
   "source": [
    "# This will convert 200 minutes to hours by diving by 60.\n",
    "def mins_to_hours(mins):\n",
    "    return mins/60\n",
    "mins_to_hours(200)"
   ]
  },
  {
   "cell_type": "markdown",
   "id": "4a8156bf-83a1-4c56-86af-dd28bb070dcb",
   "metadata": {},
   "source": [
    "**Objectives:**\n",
    "\n",
    "- List popular languages for Data Science.\n",
    "- Describe common libraries used in Data Science.\n",
    "- Show examples of evaluating arithmetic expressions in Python.\n",
    "- Discuss various development environment tools for Data Science."
   ]
  },
  {
   "cell_type": "markdown",
   "id": "7955fd04-67e4-4909-a376-e6f9db136182",
   "metadata": {},
   "source": [
    "## Author\n",
    "\n",
    "Kayden Vandecaveye"
   ]
  }
 ],
 "metadata": {
  "kernelspec": {
   "display_name": "Python 3 (ipykernel)",
   "language": "python",
   "name": "python3"
  },
  "language_info": {
   "codemirror_mode": {
    "name": "ipython",
    "version": 3
   },
   "file_extension": ".py",
   "mimetype": "text/x-python",
   "name": "python",
   "nbconvert_exporter": "python",
   "pygments_lexer": "ipython3",
   "version": "3.9.6"
  }
 },
 "nbformat": 4,
 "nbformat_minor": 5
}
